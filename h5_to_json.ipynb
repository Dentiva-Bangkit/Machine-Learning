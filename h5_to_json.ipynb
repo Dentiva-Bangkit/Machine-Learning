{
  "nbformat": 4,
  "nbformat_minor": 0,
  "metadata": {
    "colab": {
      "provenance": []
    },
    "kernelspec": {
      "name": "python3",
      "display_name": "Python 3"
    },
    "language_info": {
      "name": "python"
    }
  },
  "cells": [
    {
      "cell_type": "code",
      "source": [
        "from google.colab import drive\n",
        "drive.mount('/content/drive')"
      ],
      "metadata": {
        "colab": {
          "base_uri": "https://localhost:8080/"
        },
        "id": "o-glyEWEXWit",
        "outputId": "84791b14-340a-4585-c5d1-ee20c2e0fb54"
      },
      "execution_count": 1,
      "outputs": [
        {
          "output_type": "stream",
          "name": "stdout",
          "text": [
            "Mounted at /content/drive\n"
          ]
        }
      ]
    },
    {
      "cell_type": "code",
      "source": [
        "from keras.models import load_model\n",
        "\n",
        "# Load the model from the .h5 file\n",
        "model = load_model('/content/drive/MyDrive/modeldentiva.h5')\n",
        "\n",
        "# Convert the model to JSON format\n",
        "model_json = model.to_json()\n",
        "\n",
        "# Save the JSON to a file\n",
        "with open('model.json', 'w') as json_file:\n",
        "    json_file.write(model_json)\n",
        "\n",
        "print(\"Model has been converted to JSON and saved to model.json\")\n"
      ],
      "metadata": {
        "colab": {
          "base_uri": "https://localhost:8080/"
        },
        "id": "BV-KkX9fXgao",
        "outputId": "ccdab73d-b8b5-4d41-dc02-a547e4bb087f"
      },
      "execution_count": 3,
      "outputs": [
        {
          "output_type": "stream",
          "name": "stderr",
          "text": [
            "WARNING:tensorflow:Error in loading the saved optimizer state. As a result, your model is starting with a freshly initialized optimizer.\n"
          ]
        },
        {
          "output_type": "stream",
          "name": "stdout",
          "text": [
            "Model has been converted to JSON and saved to model.json\n"
          ]
        }
      ]
    }
  ]
}